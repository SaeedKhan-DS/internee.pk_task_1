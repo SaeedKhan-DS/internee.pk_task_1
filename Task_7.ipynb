{
  "nbformat": 4,
  "nbformat_minor": 0,
  "metadata": {
    "colab": {
      "provenance": []
    },
    "kernelspec": {
      "name": "python3",
      "display_name": "Python 3"
    },
    "language_info": {
      "name": "python"
    }
  },
  "cells": [
    {
      "cell_type": "markdown",
      "source": [
        "# Load the data set"
      ],
      "metadata": {
        "id": "lk3EKveUZQCt"
      }
    },
    {
      "cell_type": "code",
      "source": [
        "import pandas as pd\n",
        "\n",
        "# Load the dataset\n",
        "df = pd.read_csv('internship_feedback_dataset.csv')\n",
        "\n",
        "# Display first 5 rows\n",
        "print(\"First 5 rows of the dataset:\")\n",
        "print(df.head())"
      ],
      "metadata": {
        "colab": {
          "base_uri": "https://localhost:8080/"
        },
        "id": "L6ova8-EYsQo",
        "outputId": "531f1b08-466e-445f-e6ee-b0e9d61b69c7"
      },
      "execution_count": 19,
      "outputs": [
        {
          "output_type": "stream",
          "name": "stdout",
          "text": [
            "First 5 rows of the dataset:\n",
            "             intern_name                   company          department  \\\n",
            "0            Brad Jensen  Little, Moreno and Davis             Finance   \n",
            "1           Shari Garcia              Williams Ltd             Finance   \n",
            "2  Mrs. Shirley Keith MD   Silva, Taylor and Hayes         Engineering   \n",
            "3           Clinton Lamb               Griffin Ltd         Engineering   \n",
            "4            Corey Hines                 Smith PLC  Product Management   \n",
            "\n",
            "                                            feedback  rating        date  \\\n",
            "0  The company culture is fantastic and very incl...       5  2024-04-19   \n",
            "1  I learned so much and felt like a valued membe...       5  2023-05-10   \n",
            "2  The experience was average, with some learning...       4  2023-05-16   \n",
            "3  I learned so much and felt like a valued membe...       4  2023-12-15   \n",
            "4  Very disorganized program with unclear expecta...       1  2024-08-24   \n",
            "\n",
            "  sentiment  \n",
            "0  positive  \n",
            "1  positive  \n",
            "2   neutral  \n",
            "3  positive  \n",
            "4  negative  \n"
          ]
        }
      ]
    },
    {
      "cell_type": "markdown",
      "source": [],
      "metadata": {
        "id": "X6aEhneOZOuh"
      }
    },
    {
      "cell_type": "code",
      "source": [
        "!pip install nltk"
      ],
      "metadata": {
        "colab": {
          "base_uri": "https://localhost:8080/"
        },
        "id": "JGqnBDKlZNVk",
        "outputId": "1c1b26a7-ee25-41a5-f36d-80f51098f6f9"
      },
      "execution_count": 20,
      "outputs": [
        {
          "output_type": "stream",
          "name": "stdout",
          "text": [
            "Requirement already satisfied: nltk in /usr/local/lib/python3.11/dist-packages (3.9.1)\n",
            "Requirement already satisfied: click in /usr/local/lib/python3.11/dist-packages (from nltk) (8.1.8)\n",
            "Requirement already satisfied: joblib in /usr/local/lib/python3.11/dist-packages (from nltk) (1.4.2)\n",
            "Requirement already satisfied: regex>=2021.8.3 in /usr/local/lib/python3.11/dist-packages (from nltk) (2024.11.6)\n",
            "Requirement already satisfied: tqdm in /usr/local/lib/python3.11/dist-packages (from nltk) (4.67.1)\n"
          ]
        }
      ]
    },
    {
      "cell_type": "markdown",
      "source": [
        "# **Load VADER and Analyze Sentiment**"
      ],
      "metadata": {
        "id": "3yem9zPiZp8K"
      }
    },
    {
      "cell_type": "code",
      "source": [
        "import nltk\n",
        "from nltk.sentiment import SentimentIntensityAnalyzer\n",
        "\n",
        "# Download VADER lexicon\n",
        "nltk.download('vader_lexicon')\n",
        "\n",
        "# Initialize sentiment analyzer\n",
        "sia = SentimentIntensityAnalyzer()\n",
        "\n",
        "# Function to get sentiment scores\n",
        "def get_sentiment_score(text):\n",
        "    return sia.polarity_scores(text)['compound']\n",
        "\n",
        "# Apply sentiment analysis to feedback\n",
        "df['sentiment_score'] = df['feedback'].apply(get_sentiment_score)\n",
        "\n",
        "# Classify sentiment based on score\n",
        "def classify_sentiment(score):\n",
        "    if score >= 0.05:\n",
        "        return 'positive'\n",
        "    elif score <= -0.05:\n",
        "        return 'negative'\n",
        "    else:\n",
        "        return 'neutral'\n",
        "\n",
        "df['predicted_sentiment'] = df['sentiment_score'].apply(classify_sentiment)\n",
        "\n",
        "# Display results\n",
        "print(\"\\nSentiment Analysis Results:\")\n",
        "print(df[['feedback', 'sentiment_score', 'predicted_sentiment']].head())"
      ],
      "metadata": {
        "colab": {
          "base_uri": "https://localhost:8080/"
        },
        "id": "H9Rm1aFwZcxV",
        "outputId": "44c8d9b1-dd90-47ae-8cee-b661f3e659cc"
      },
      "execution_count": 21,
      "outputs": [
        {
          "output_type": "stream",
          "name": "stdout",
          "text": [
            "\n",
            "Sentiment Analysis Results:\n",
            "                                            feedback  sentiment_score  \\\n",
            "0  The company culture is fantastic and very incl...           0.5574   \n",
            "1  I learned so much and felt like a valued membe...           0.6597   \n",
            "2  The experience was average, with some learning...           0.3818   \n",
            "3  I learned so much and felt like a valued membe...           0.6597   \n",
            "4  Very disorganized program with unclear expecta...          -0.5413   \n",
            "\n",
            "  predicted_sentiment  \n",
            "0            positive  \n",
            "1            positive  \n",
            "2            positive  \n",
            "3            positive  \n",
            "4            negative  \n"
          ]
        },
        {
          "output_type": "stream",
          "name": "stderr",
          "text": [
            "[nltk_data] Downloading package vader_lexicon to /root/nltk_data...\n",
            "[nltk_data]   Package vader_lexicon is already up-to-date!\n"
          ]
        }
      ]
    },
    {
      "cell_type": "markdown",
      "source": [
        "# **Enhanced Text Preprocessing**"
      ],
      "metadata": {
        "id": "gM9FnKjncjwy"
      }
    },
    {
      "cell_type": "code",
      "source": [
        "import re\n",
        "import string\n",
        "from nltk.corpus import stopwords\n",
        "from nltk.stem import WordNetLemmatizer\n",
        "nltk.download('wordnet')\n",
        "nltk.download('stopwords')\n",
        "\n",
        "def clean_text(text):\n",
        "    # Convert to lowercase\n",
        "    text = text.lower()\n",
        "\n",
        "    # Remove URLs\n",
        "    text = re.sub(r'https?://\\S+|www\\.\\S+', '', text)\n",
        "\n",
        "    # Remove punctuation\n",
        "    text = re.sub(f'[{re.escape(string.punctuation)}]', '', text)\n",
        "\n",
        "    # Remove numbers\n",
        "    text = re.sub(r'\\d+', '', text)\n",
        "\n",
        "    # Remove extra whitespace\n",
        "    text = re.sub(r'\\s+', ' ', text).strip()\n",
        "\n",
        "    return text\n",
        "\n",
        "def lemmatize_text(text):\n",
        "    lemmatizer = WordNetLemmatizer()\n",
        "    stop_words = set(stopwords.words('english'))\n",
        "    words = text.split()\n",
        "    words = [lemmatizer.lemmatize(word) for word in words if word not in stop_words]\n",
        "    return ' '.join(words)\n",
        "\n",
        "# Apply preprocessing\n",
        "df['cleaned_feedback'] = df['feedback'].apply(clean_text).apply(lemmatize_text)"
      ],
      "metadata": {
        "colab": {
          "base_uri": "https://localhost:8080/"
        },
        "id": "gkqgPGCbchkO",
        "outputId": "c233efd0-3cc0-43a3-c7c4-fd4a91d0a66e"
      },
      "execution_count": 22,
      "outputs": [
        {
          "output_type": "stream",
          "name": "stderr",
          "text": [
            "[nltk_data] Downloading package wordnet to /root/nltk_data...\n",
            "[nltk_data] Downloading package stopwords to /root/nltk_data...\n",
            "[nltk_data]   Unzipping corpora/stopwords.zip.\n"
          ]
        }
      ]
    },
    {
      "cell_type": "markdown",
      "source": [
        "# **Feature Engineering**"
      ],
      "metadata": {
        "id": "CAxCVxZ4c2Dc"
      }
    },
    {
      "cell_type": "code",
      "source": [
        "from textblob import TextBlob\n",
        "nltk.download('punkt')\n",
        "\n",
        "def extract_text_features(text):\n",
        "    blob = TextBlob(text)\n",
        "\n",
        "    features = {\n",
        "        'word_count': len(text.split()),\n",
        "        'char_count': len(text),\n",
        "        'avg_word_length': sum(len(word) for word in text.split()) / len(text.split()) if text else 0,\n",
        "        'exclamation_count': text.count('!'),\n",
        "        'question_count': text.count('?'),\n",
        "        'polarity': blob.sentiment.polarity,\n",
        "        'subjectivity': blob.sentiment.subjectivity\n",
        "    }\n",
        "    return features\n",
        "\n",
        "# Create feature columns\n",
        "text_features = df['cleaned_feedback'].apply(extract_text_features).apply(pd.Series)\n",
        "df = pd.concat([df, text_features], axis=1)"
      ],
      "metadata": {
        "colab": {
          "base_uri": "https://localhost:8080/"
        },
        "id": "gSO4cGqAc0it",
        "outputId": "10849854-c9de-4405-f120-4a2b515eaf36"
      },
      "execution_count": 23,
      "outputs": [
        {
          "output_type": "stream",
          "name": "stderr",
          "text": [
            "[nltk_data] Downloading package punkt to /root/nltk_data...\n",
            "[nltk_data]   Unzipping tokenizers/punkt.zip.\n"
          ]
        }
      ]
    },
    {
      "cell_type": "markdown",
      "source": [
        "# **Sentiment Analysis with Custom Lexicon**"
      ],
      "metadata": {
        "id": "wXX8pjSsc95c"
      }
    },
    {
      "cell_type": "code",
      "source": [
        "# Augment VADER lexicon with internship-specific terms\n",
        "internship_lexicon = {\n",
        "    'mentor': 1.5,\n",
        "    'learning': 1.3,\n",
        "    'experience': 0.8,\n",
        "    'internship': 0.5,\n",
        "    'meaningful': 1.7,\n",
        "    'boring': -1.5,\n",
        "    'toxic': -2.0,\n",
        "    'supportive': 1.8,\n",
        "    'menial': -1.7,\n",
        "    'challenging': 1.2\n",
        "}\n",
        "\n",
        "sia = SentimentIntensityAnalyzer()\n",
        "sia.lexicon.update(internship_lexicon)\n",
        "\n",
        "def enhanced_sentiment_analysis(text):\n",
        "    # Get VADER score\n",
        "    vader_score = sia.polarity_scores(text)['compound']\n",
        "\n",
        "    # Get TextBlob score\n",
        "    blob_score = TextBlob(text).sentiment.polarity\n",
        "\n",
        "    # Combine scores (weighted average)\n",
        "    combined_score = (0.7 * vader_score) + (0.3 * blob_score)\n",
        "\n",
        "    return combined_score\n",
        "\n",
        "df['enhanced_sentiment_score'] = df['cleaned_feedback'].apply(enhanced_sentiment_analysis)"
      ],
      "metadata": {
        "id": "7Y_6Gyd2c9Dc"
      },
      "execution_count": 24,
      "outputs": []
    },
    {
      "cell_type": "markdown",
      "source": [
        "# **Sentiment Classification**"
      ],
      "metadata": {
        "id": "BINi29YMdNX7"
      }
    },
    {
      "cell_type": "code",
      "source": [
        "from sklearn.ensemble import RandomForestClassifier\n",
        "from sklearn.model_selection import train_test_split\n",
        "from sklearn.preprocessing import StandardScaler\n",
        "\n",
        "# Prepare features and target\n",
        "features = ['sentiment_score', 'word_count', 'char_count',\n",
        "           'avg_word_length', 'exclamation_count',\n",
        "           'question_count', 'polarity', 'subjectivity',\n",
        "           'enhanced_sentiment_score']\n",
        "X = df[features]\n",
        "y = df['sentiment']\n",
        "\n",
        "# Train-test split\n",
        "X_train, X_test, y_train, y_test = train_test_split(X, y, test_size=0.2, random_state=42)\n",
        "\n",
        "# Scale features\n",
        "scaler = StandardScaler()\n",
        "X_train_scaled = scaler.fit_transform(X_train)\n",
        "X_test_scaled = scaler.transform(X_test)\n",
        "\n",
        "# Train Random Forest classifier\n",
        "rf = RandomForestClassifier(n_estimators=100, random_state=42)\n",
        "rf.fit(X_train_scaled, y_train)\n",
        "\n",
        "# Make predictions\n",
        "df['rf_predicted_sentiment'] = rf.predict(scaler.transform(X))"
      ],
      "metadata": {
        "id": "1_IinF7YdL1O"
      },
      "execution_count": 25,
      "outputs": []
    },
    {
      "cell_type": "code",
      "source": [],
      "metadata": {
        "id": "ykXfQ2xmdUVA"
      },
      "execution_count": null,
      "outputs": []
    },
    {
      "cell_type": "markdown",
      "source": [
        "# **Evaluate Sentiment Classification**\n",
        "Let’s check how well our model performed by comparing predicted sentiment with the original labels"
      ],
      "metadata": {
        "id": "BS6DDyWOaL_8"
      }
    },
    {
      "cell_type": "code",
      "source": [
        "from sklearn.metrics import classification_report, confusion_matrix\n",
        "\n",
        "# Evaluate Random Forest model\n",
        "print(\"Enhanced Model Classification Report:\")\n",
        "print(classification_report(y, df['rf_predicted_sentiment']))\n",
        "\n",
        "print(\"\\nConfusion Matrix:\")\n",
        "print(confusion_matrix(y, df['rf_predicted_sentiment']))\n",
        "\n",
        "accuracy = accuracy_score(y, df['rf_predicted_sentiment'])\n",
        "print(f\"\\nEnhanced Model Accuracy: {accuracy:.2%}\")"
      ],
      "metadata": {
        "colab": {
          "base_uri": "https://localhost:8080/"
        },
        "id": "mB2grQBNZlWE",
        "outputId": "34824f93-108a-4301-ce0a-873063c7ec24"
      },
      "execution_count": 27,
      "outputs": [
        {
          "output_type": "stream",
          "name": "stdout",
          "text": [
            "Enhanced Model Classification Report:\n",
            "              precision    recall  f1-score   support\n",
            "\n",
            "    negative       1.00      1.00      1.00       184\n",
            "     neutral       1.00      1.00      1.00       209\n",
            "    positive       1.00      1.00      1.00       607\n",
            "\n",
            "    accuracy                           1.00      1000\n",
            "   macro avg       1.00      1.00      1.00      1000\n",
            "weighted avg       1.00      1.00      1.00      1000\n",
            "\n",
            "\n",
            "Confusion Matrix:\n",
            "[[184   0   0]\n",
            " [  0 209   0]\n",
            " [  0   0 607]]\n",
            "\n",
            "Enhanced Model Accuracy: 100.00%\n"
          ]
        }
      ]
    },
    {
      "cell_type": "code",
      "source": [
        "import matplotlib.pyplot as plt\n",
        "import seaborn as sns\n",
        "\n",
        "# Set style\n",
        "sns.set_style(\"whitegrid\")\n",
        "\n",
        "# Plot sentiment distribution\n",
        "plt.figure(figsize=(10, 5))\n",
        "sns.countplot(data=df, x='predicted_sentiment', palette=\"viridis\")\n",
        "plt.title(\"Distribution of Predicted Sentiments\")\n",
        "plt.xlabel(\"Sentiment\")\n",
        "plt.ylabel(\"Count\")\n",
        "plt.show()"
      ],
      "metadata": {
        "colab": {
          "base_uri": "https://localhost:8080/",
          "height": 594
        },
        "id": "vHD-VKZ3aEi5",
        "outputId": "653c1195-feb7-432d-f6c3-d93fc2e76ebc"
      },
      "execution_count": 28,
      "outputs": [
        {
          "output_type": "stream",
          "name": "stderr",
          "text": [
            "<ipython-input-28-b6a45fbbbff7>:9: FutureWarning: \n",
            "\n",
            "Passing `palette` without assigning `hue` is deprecated and will be removed in v0.14.0. Assign the `x` variable to `hue` and set `legend=False` for the same effect.\n",
            "\n",
            "  sns.countplot(data=df, x='predicted_sentiment', palette=\"viridis\")\n"
          ]
        },
        {
          "output_type": "display_data",
          "data": {
            "text/plain": [
              "<Figure size 1000x500 with 1 Axes>"
            ],
            "image/png": "[encoded data removed]"
          },
          "metadata": {}
        }
      ]
    },
    {
      "cell_type": "code",
      "source": [],
      "metadata": {
        "id": "9o_hletKegk5"
      },
      "execution_count": null,
      "outputs": []
    }
  ]
}